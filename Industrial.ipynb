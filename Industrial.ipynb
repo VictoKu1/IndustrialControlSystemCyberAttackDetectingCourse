{
 "cells": [
  {
   "cell_type": "code",
   "execution_count": 7,
   "metadata": {},
   "outputs": [
    {
     "data": {
      "text/html": [
       "<div>\n",
       "<style scoped>\n",
       "    .dataframe tbody tr th:only-of-type {\n",
       "        vertical-align: middle;\n",
       "    }\n",
       "\n",
       "    .dataframe tbody tr th {\n",
       "        vertical-align: top;\n",
       "    }\n",
       "\n",
       "    .dataframe thead th {\n",
       "        text-align: right;\n",
       "    }\n",
       "</style>\n",
       "<table border=\"1\" class=\"dataframe\">\n",
       "  <thead>\n",
       "    <tr style=\"text-align: right;\">\n",
       "      <th></th>\n",
       "      <th>R1-PA1:VH</th>\n",
       "      <th>R1-PM1:V</th>\n",
       "      <th>R1-PA2:VH</th>\n",
       "      <th>R1-PM2:V</th>\n",
       "      <th>R1-PA3:VH</th>\n",
       "      <th>R1-PM3:V</th>\n",
       "      <th>R1-PA4:IH</th>\n",
       "      <th>R1-PM4:I</th>\n",
       "      <th>R1-PA5:IH</th>\n",
       "      <th>R1-PM5:I</th>\n",
       "      <th>...</th>\n",
       "      <th>control_panel_log4</th>\n",
       "      <th>relay1_log</th>\n",
       "      <th>relay2_log</th>\n",
       "      <th>relay3_log</th>\n",
       "      <th>relay4_log</th>\n",
       "      <th>snort_log1</th>\n",
       "      <th>snort_log2</th>\n",
       "      <th>snort_log3</th>\n",
       "      <th>snort_log4</th>\n",
       "      <th>marker</th>\n",
       "    </tr>\n",
       "  </thead>\n",
       "  <tbody>\n",
       "    <tr>\n",
       "      <th>0</th>\n",
       "      <td>70.399324</td>\n",
       "      <td>127673.0908</td>\n",
       "      <td>-49.572308</td>\n",
       "      <td>127648.0176</td>\n",
       "      <td>-169.578319</td>\n",
       "      <td>127723.2374</td>\n",
       "      <td>65.689611</td>\n",
       "      <td>605.91099</td>\n",
       "      <td>-57.003571</td>\n",
       "      <td>626.78553</td>\n",
       "      <td>...</td>\n",
       "      <td>0</td>\n",
       "      <td>0</td>\n",
       "      <td>0</td>\n",
       "      <td>0</td>\n",
       "      <td>0</td>\n",
       "      <td>0</td>\n",
       "      <td>0</td>\n",
       "      <td>0</td>\n",
       "      <td>0</td>\n",
       "      <td>Natural</td>\n",
       "    </tr>\n",
       "    <tr>\n",
       "      <th>1</th>\n",
       "      <td>73.688102</td>\n",
       "      <td>130280.7109</td>\n",
       "      <td>-46.300719</td>\n",
       "      <td>130255.6377</td>\n",
       "      <td>-166.278082</td>\n",
       "      <td>130355.9307</td>\n",
       "      <td>71.831719</td>\n",
       "      <td>483.59351</td>\n",
       "      <td>-50.947407</td>\n",
       "      <td>500.98896</td>\n",
       "      <td>...</td>\n",
       "      <td>0</td>\n",
       "      <td>0</td>\n",
       "      <td>0</td>\n",
       "      <td>0</td>\n",
       "      <td>0</td>\n",
       "      <td>0</td>\n",
       "      <td>0</td>\n",
       "      <td>0</td>\n",
       "      <td>0</td>\n",
       "      <td>Natural</td>\n",
       "    </tr>\n",
       "    <tr>\n",
       "      <th>2</th>\n",
       "      <td>73.733939</td>\n",
       "      <td>130305.7842</td>\n",
       "      <td>-46.254883</td>\n",
       "      <td>130280.7109</td>\n",
       "      <td>-166.232245</td>\n",
       "      <td>130381.0040</td>\n",
       "      <td>71.808800</td>\n",
       "      <td>483.59351</td>\n",
       "      <td>-50.913030</td>\n",
       "      <td>500.98896</td>\n",
       "      <td>...</td>\n",
       "      <td>0</td>\n",
       "      <td>0</td>\n",
       "      <td>0</td>\n",
       "      <td>0</td>\n",
       "      <td>0</td>\n",
       "      <td>0</td>\n",
       "      <td>0</td>\n",
       "      <td>0</td>\n",
       "      <td>0</td>\n",
       "      <td>Natural</td>\n",
       "    </tr>\n",
       "    <tr>\n",
       "      <th>3</th>\n",
       "      <td>74.083443</td>\n",
       "      <td>130581.5902</td>\n",
       "      <td>-45.899649</td>\n",
       "      <td>130556.5169</td>\n",
       "      <td>-165.882741</td>\n",
       "      <td>130656.8100</td>\n",
       "      <td>72.152575</td>\n",
       "      <td>482.86107</td>\n",
       "      <td>-50.437475</td>\n",
       "      <td>499.15786</td>\n",
       "      <td>...</td>\n",
       "      <td>0</td>\n",
       "      <td>0</td>\n",
       "      <td>0</td>\n",
       "      <td>0</td>\n",
       "      <td>0</td>\n",
       "      <td>0</td>\n",
       "      <td>0</td>\n",
       "      <td>0</td>\n",
       "      <td>0</td>\n",
       "      <td>Natural</td>\n",
       "    </tr>\n",
       "    <tr>\n",
       "      <th>4</th>\n",
       "      <td>74.553268</td>\n",
       "      <td>131083.0556</td>\n",
       "      <td>-45.424094</td>\n",
       "      <td>131057.9823</td>\n",
       "      <td>-165.424375</td>\n",
       "      <td>131158.2754</td>\n",
       "      <td>72.118198</td>\n",
       "      <td>484.50906</td>\n",
       "      <td>-50.013486</td>\n",
       "      <td>497.69298</td>\n",
       "      <td>...</td>\n",
       "      <td>0</td>\n",
       "      <td>0</td>\n",
       "      <td>0</td>\n",
       "      <td>0</td>\n",
       "      <td>0</td>\n",
       "      <td>0</td>\n",
       "      <td>0</td>\n",
       "      <td>0</td>\n",
       "      <td>0</td>\n",
       "      <td>Natural</td>\n",
       "    </tr>\n",
       "    <tr>\n",
       "      <th>...</th>\n",
       "      <td>...</td>\n",
       "      <td>...</td>\n",
       "      <td>...</td>\n",
       "      <td>...</td>\n",
       "      <td>...</td>\n",
       "      <td>...</td>\n",
       "      <td>...</td>\n",
       "      <td>...</td>\n",
       "      <td>...</td>\n",
       "      <td>...</td>\n",
       "      <td>...</td>\n",
       "      <td>...</td>\n",
       "      <td>...</td>\n",
       "      <td>...</td>\n",
       "      <td>...</td>\n",
       "      <td>...</td>\n",
       "      <td>...</td>\n",
       "      <td>...</td>\n",
       "      <td>...</td>\n",
       "      <td>...</td>\n",
       "      <td>...</td>\n",
       "    </tr>\n",
       "    <tr>\n",
       "      <th>5110</th>\n",
       "      <td>-119.696613</td>\n",
       "      <td>131308.7150</td>\n",
       "      <td>120.326867</td>\n",
       "      <td>131258.5685</td>\n",
       "      <td>0.309397</td>\n",
       "      <td>131358.8615</td>\n",
       "      <td>-116.235948</td>\n",
       "      <td>337.65484</td>\n",
       "      <td>122.045740</td>\n",
       "      <td>344.24680</td>\n",
       "      <td>...</td>\n",
       "      <td>0</td>\n",
       "      <td>0</td>\n",
       "      <td>0</td>\n",
       "      <td>0</td>\n",
       "      <td>0</td>\n",
       "      <td>0</td>\n",
       "      <td>0</td>\n",
       "      <td>0</td>\n",
       "      <td>0</td>\n",
       "      <td>Natural</td>\n",
       "    </tr>\n",
       "    <tr>\n",
       "      <th>5111</th>\n",
       "      <td>-119.742450</td>\n",
       "      <td>131333.7883</td>\n",
       "      <td>120.286760</td>\n",
       "      <td>131308.7150</td>\n",
       "      <td>0.269290</td>\n",
       "      <td>131383.9348</td>\n",
       "      <td>-116.510968</td>\n",
       "      <td>338.02106</td>\n",
       "      <td>121.885312</td>\n",
       "      <td>344.79613</td>\n",
       "      <td>...</td>\n",
       "      <td>0</td>\n",
       "      <td>0</td>\n",
       "      <td>0</td>\n",
       "      <td>0</td>\n",
       "      <td>0</td>\n",
       "      <td>0</td>\n",
       "      <td>0</td>\n",
       "      <td>0</td>\n",
       "      <td>0</td>\n",
       "      <td>Natural</td>\n",
       "    </tr>\n",
       "    <tr>\n",
       "      <th>5112</th>\n",
       "      <td>-119.765368</td>\n",
       "      <td>131383.9348</td>\n",
       "      <td>120.258112</td>\n",
       "      <td>131333.7883</td>\n",
       "      <td>0.246372</td>\n",
       "      <td>131434.0813</td>\n",
       "      <td>-116.740151</td>\n",
       "      <td>339.66905</td>\n",
       "      <td>121.696236</td>\n",
       "      <td>345.52857</td>\n",
       "      <td>...</td>\n",
       "      <td>0</td>\n",
       "      <td>0</td>\n",
       "      <td>0</td>\n",
       "      <td>0</td>\n",
       "      <td>0</td>\n",
       "      <td>0</td>\n",
       "      <td>0</td>\n",
       "      <td>0</td>\n",
       "      <td>0</td>\n",
       "      <td>Natural</td>\n",
       "    </tr>\n",
       "    <tr>\n",
       "      <th>5113</th>\n",
       "      <td>-119.828393</td>\n",
       "      <td>131484.2279</td>\n",
       "      <td>120.200816</td>\n",
       "      <td>131434.0813</td>\n",
       "      <td>0.183346</td>\n",
       "      <td>131509.3012</td>\n",
       "      <td>-117.536562</td>\n",
       "      <td>342.41570</td>\n",
       "      <td>121.054523</td>\n",
       "      <td>347.35967</td>\n",
       "      <td>...</td>\n",
       "      <td>0</td>\n",
       "      <td>0</td>\n",
       "      <td>0</td>\n",
       "      <td>0</td>\n",
       "      <td>0</td>\n",
       "      <td>0</td>\n",
       "      <td>0</td>\n",
       "      <td>0</td>\n",
       "      <td>0</td>\n",
       "      <td>Natural</td>\n",
       "    </tr>\n",
       "    <tr>\n",
       "      <th>5114</th>\n",
       "      <td>-119.931526</td>\n",
       "      <td>131634.6675</td>\n",
       "      <td>120.097683</td>\n",
       "      <td>131609.5942</td>\n",
       "      <td>0.085944</td>\n",
       "      <td>131709.8873</td>\n",
       "      <td>-118.602264</td>\n",
       "      <td>346.26101</td>\n",
       "      <td>120.200816</td>\n",
       "      <td>350.28943</td>\n",
       "      <td>...</td>\n",
       "      <td>0</td>\n",
       "      <td>0</td>\n",
       "      <td>0</td>\n",
       "      <td>0</td>\n",
       "      <td>0</td>\n",
       "      <td>0</td>\n",
       "      <td>0</td>\n",
       "      <td>0</td>\n",
       "      <td>0</td>\n",
       "      <td>Natural</td>\n",
       "    </tr>\n",
       "  </tbody>\n",
       "</table>\n",
       "<p>73101 rows × 129 columns</p>\n",
       "</div>"
      ],
      "text/plain": [
       "       R1-PA1:VH     R1-PM1:V   R1-PA2:VH     R1-PM2:V   R1-PA3:VH  \\\n",
       "0      70.399324  127673.0908  -49.572308  127648.0176 -169.578319   \n",
       "1      73.688102  130280.7109  -46.300719  130255.6377 -166.278082   \n",
       "2      73.733939  130305.7842  -46.254883  130280.7109 -166.232245   \n",
       "3      74.083443  130581.5902  -45.899649  130556.5169 -165.882741   \n",
       "4      74.553268  131083.0556  -45.424094  131057.9823 -165.424375   \n",
       "...          ...          ...         ...          ...         ...   \n",
       "5110 -119.696613  131308.7150  120.326867  131258.5685    0.309397   \n",
       "5111 -119.742450  131333.7883  120.286760  131308.7150    0.269290   \n",
       "5112 -119.765368  131383.9348  120.258112  131333.7883    0.246372   \n",
       "5113 -119.828393  131484.2279  120.200816  131434.0813    0.183346   \n",
       "5114 -119.931526  131634.6675  120.097683  131609.5942    0.085944   \n",
       "\n",
       "         R1-PM3:V   R1-PA4:IH   R1-PM4:I   R1-PA5:IH   R1-PM5:I  ...  \\\n",
       "0     127723.2374   65.689611  605.91099  -57.003571  626.78553  ...   \n",
       "1     130355.9307   71.831719  483.59351  -50.947407  500.98896  ...   \n",
       "2     130381.0040   71.808800  483.59351  -50.913030  500.98896  ...   \n",
       "3     130656.8100   72.152575  482.86107  -50.437475  499.15786  ...   \n",
       "4     131158.2754   72.118198  484.50906  -50.013486  497.69298  ...   \n",
       "...           ...         ...        ...         ...        ...  ...   \n",
       "5110  131358.8615 -116.235948  337.65484  122.045740  344.24680  ...   \n",
       "5111  131383.9348 -116.510968  338.02106  121.885312  344.79613  ...   \n",
       "5112  131434.0813 -116.740151  339.66905  121.696236  345.52857  ...   \n",
       "5113  131509.3012 -117.536562  342.41570  121.054523  347.35967  ...   \n",
       "5114  131709.8873 -118.602264  346.26101  120.200816  350.28943  ...   \n",
       "\n",
       "      control_panel_log4  relay1_log  relay2_log  relay3_log  relay4_log  \\\n",
       "0                      0           0           0           0           0   \n",
       "1                      0           0           0           0           0   \n",
       "2                      0           0           0           0           0   \n",
       "3                      0           0           0           0           0   \n",
       "4                      0           0           0           0           0   \n",
       "...                  ...         ...         ...         ...         ...   \n",
       "5110                   0           0           0           0           0   \n",
       "5111                   0           0           0           0           0   \n",
       "5112                   0           0           0           0           0   \n",
       "5113                   0           0           0           0           0   \n",
       "5114                   0           0           0           0           0   \n",
       "\n",
       "      snort_log1  snort_log2  snort_log3  snort_log4   marker  \n",
       "0              0           0           0           0  Natural  \n",
       "1              0           0           0           0  Natural  \n",
       "2              0           0           0           0  Natural  \n",
       "3              0           0           0           0  Natural  \n",
       "4              0           0           0           0  Natural  \n",
       "...          ...         ...         ...         ...      ...  \n",
       "5110           0           0           0           0  Natural  \n",
       "5111           0           0           0           0  Natural  \n",
       "5112           0           0           0           0  Natural  \n",
       "5113           0           0           0           0  Natural  \n",
       "5114           0           0           0           0  Natural  \n",
       "\n",
       "[73101 rows x 129 columns]"
      ]
     },
     "execution_count": 7,
     "metadata": {},
     "output_type": "execute_result"
    }
   ],
   "source": [
    "import pandas as pd\n",
    "import numpy as np\n",
    "import plotly.express as px\n",
    "\n",
    "# Read all the datasets\n",
    "df_list= [ pd.read_csv('Class/binaryAllNaturalPlusNormalVsAttacks/data{}.csv'.format(i)) for i in range(1, 15) ]\n",
    "# Union all the datasets into one\n",
    "df_bin = pd.concat(df_list)\n",
    "df_bin"
   ]
  },
  {
   "cell_type": "code",
   "execution_count": 8,
   "metadata": {},
   "outputs": [
    {
     "data": {
      "text/html": [
       "<div>\n",
       "<style scoped>\n",
       "    .dataframe tbody tr th:only-of-type {\n",
       "        vertical-align: middle;\n",
       "    }\n",
       "\n",
       "    .dataframe tbody tr th {\n",
       "        vertical-align: top;\n",
       "    }\n",
       "\n",
       "    .dataframe thead th {\n",
       "        text-align: right;\n",
       "    }\n",
       "</style>\n",
       "<table border=\"1\" class=\"dataframe\">\n",
       "  <thead>\n",
       "    <tr style=\"text-align: right;\">\n",
       "      <th></th>\n",
       "      <th>R1-PA1:VH</th>\n",
       "      <th>R1-PM1:V</th>\n",
       "      <th>R1-PA2:VH</th>\n",
       "      <th>R1-PM2:V</th>\n",
       "      <th>R1-PA3:VH</th>\n",
       "      <th>R1-PM3:V</th>\n",
       "      <th>R1-PA4:IH</th>\n",
       "      <th>R1-PM4:I</th>\n",
       "      <th>R1-PA5:IH</th>\n",
       "      <th>R1-PM5:I</th>\n",
       "      <th>...</th>\n",
       "      <th>control_panel_log4</th>\n",
       "      <th>relay1_log</th>\n",
       "      <th>relay2_log</th>\n",
       "      <th>relay3_log</th>\n",
       "      <th>relay4_log</th>\n",
       "      <th>snort_log1</th>\n",
       "      <th>snort_log2</th>\n",
       "      <th>snort_log3</th>\n",
       "      <th>snort_log4</th>\n",
       "      <th>marker</th>\n",
       "    </tr>\n",
       "  </thead>\n",
       "  <tbody>\n",
       "    <tr>\n",
       "      <th>0</th>\n",
       "      <td>70.399324</td>\n",
       "      <td>127673.0908</td>\n",
       "      <td>-49.572308</td>\n",
       "      <td>127648.0176</td>\n",
       "      <td>-169.578319</td>\n",
       "      <td>127723.2374</td>\n",
       "      <td>65.689611</td>\n",
       "      <td>605.91099</td>\n",
       "      <td>-57.003571</td>\n",
       "      <td>626.78553</td>\n",
       "      <td>...</td>\n",
       "      <td>0</td>\n",
       "      <td>0</td>\n",
       "      <td>0</td>\n",
       "      <td>0</td>\n",
       "      <td>0</td>\n",
       "      <td>0</td>\n",
       "      <td>0</td>\n",
       "      <td>0</td>\n",
       "      <td>0</td>\n",
       "      <td>NoEvents</td>\n",
       "    </tr>\n",
       "    <tr>\n",
       "      <th>1</th>\n",
       "      <td>73.688102</td>\n",
       "      <td>130280.7109</td>\n",
       "      <td>-46.300719</td>\n",
       "      <td>130255.6377</td>\n",
       "      <td>-166.278082</td>\n",
       "      <td>130355.9307</td>\n",
       "      <td>71.831719</td>\n",
       "      <td>483.59351</td>\n",
       "      <td>-50.947407</td>\n",
       "      <td>500.98896</td>\n",
       "      <td>...</td>\n",
       "      <td>0</td>\n",
       "      <td>0</td>\n",
       "      <td>0</td>\n",
       "      <td>0</td>\n",
       "      <td>0</td>\n",
       "      <td>0</td>\n",
       "      <td>0</td>\n",
       "      <td>0</td>\n",
       "      <td>0</td>\n",
       "      <td>NoEvents</td>\n",
       "    </tr>\n",
       "    <tr>\n",
       "      <th>2</th>\n",
       "      <td>73.733939</td>\n",
       "      <td>130305.7842</td>\n",
       "      <td>-46.254883</td>\n",
       "      <td>130280.7109</td>\n",
       "      <td>-166.232245</td>\n",
       "      <td>130381.0040</td>\n",
       "      <td>71.808800</td>\n",
       "      <td>483.59351</td>\n",
       "      <td>-50.913030</td>\n",
       "      <td>500.98896</td>\n",
       "      <td>...</td>\n",
       "      <td>0</td>\n",
       "      <td>0</td>\n",
       "      <td>0</td>\n",
       "      <td>0</td>\n",
       "      <td>0</td>\n",
       "      <td>0</td>\n",
       "      <td>0</td>\n",
       "      <td>0</td>\n",
       "      <td>0</td>\n",
       "      <td>NoEvents</td>\n",
       "    </tr>\n",
       "    <tr>\n",
       "      <th>3</th>\n",
       "      <td>74.083443</td>\n",
       "      <td>130581.5902</td>\n",
       "      <td>-45.899649</td>\n",
       "      <td>130556.5169</td>\n",
       "      <td>-165.882741</td>\n",
       "      <td>130656.8100</td>\n",
       "      <td>72.152575</td>\n",
       "      <td>482.86107</td>\n",
       "      <td>-50.437475</td>\n",
       "      <td>499.15786</td>\n",
       "      <td>...</td>\n",
       "      <td>0</td>\n",
       "      <td>0</td>\n",
       "      <td>0</td>\n",
       "      <td>0</td>\n",
       "      <td>0</td>\n",
       "      <td>0</td>\n",
       "      <td>0</td>\n",
       "      <td>0</td>\n",
       "      <td>0</td>\n",
       "      <td>NoEvents</td>\n",
       "    </tr>\n",
       "    <tr>\n",
       "      <th>4</th>\n",
       "      <td>74.553268</td>\n",
       "      <td>131083.0556</td>\n",
       "      <td>-45.424094</td>\n",
       "      <td>131057.9823</td>\n",
       "      <td>-165.424375</td>\n",
       "      <td>131158.2754</td>\n",
       "      <td>72.118198</td>\n",
       "      <td>484.50906</td>\n",
       "      <td>-50.013486</td>\n",
       "      <td>497.69298</td>\n",
       "      <td>...</td>\n",
       "      <td>0</td>\n",
       "      <td>0</td>\n",
       "      <td>0</td>\n",
       "      <td>0</td>\n",
       "      <td>0</td>\n",
       "      <td>0</td>\n",
       "      <td>0</td>\n",
       "      <td>0</td>\n",
       "      <td>0</td>\n",
       "      <td>NoEvents</td>\n",
       "    </tr>\n",
       "    <tr>\n",
       "      <th>...</th>\n",
       "      <td>...</td>\n",
       "      <td>...</td>\n",
       "      <td>...</td>\n",
       "      <td>...</td>\n",
       "      <td>...</td>\n",
       "      <td>...</td>\n",
       "      <td>...</td>\n",
       "      <td>...</td>\n",
       "      <td>...</td>\n",
       "      <td>...</td>\n",
       "      <td>...</td>\n",
       "      <td>...</td>\n",
       "      <td>...</td>\n",
       "      <td>...</td>\n",
       "      <td>...</td>\n",
       "      <td>...</td>\n",
       "      <td>...</td>\n",
       "      <td>...</td>\n",
       "      <td>...</td>\n",
       "      <td>...</td>\n",
       "      <td>...</td>\n",
       "    </tr>\n",
       "    <tr>\n",
       "      <th>5110</th>\n",
       "      <td>-119.696613</td>\n",
       "      <td>131308.7150</td>\n",
       "      <td>120.326867</td>\n",
       "      <td>131258.5685</td>\n",
       "      <td>0.309397</td>\n",
       "      <td>131358.8615</td>\n",
       "      <td>-116.235948</td>\n",
       "      <td>337.65484</td>\n",
       "      <td>122.045740</td>\n",
       "      <td>344.24680</td>\n",
       "      <td>...</td>\n",
       "      <td>0</td>\n",
       "      <td>0</td>\n",
       "      <td>0</td>\n",
       "      <td>0</td>\n",
       "      <td>0</td>\n",
       "      <td>0</td>\n",
       "      <td>0</td>\n",
       "      <td>0</td>\n",
       "      <td>0</td>\n",
       "      <td>Natural</td>\n",
       "    </tr>\n",
       "    <tr>\n",
       "      <th>5111</th>\n",
       "      <td>-119.742450</td>\n",
       "      <td>131333.7883</td>\n",
       "      <td>120.286760</td>\n",
       "      <td>131308.7150</td>\n",
       "      <td>0.269290</td>\n",
       "      <td>131383.9348</td>\n",
       "      <td>-116.510968</td>\n",
       "      <td>338.02106</td>\n",
       "      <td>121.885312</td>\n",
       "      <td>344.79613</td>\n",
       "      <td>...</td>\n",
       "      <td>0</td>\n",
       "      <td>0</td>\n",
       "      <td>0</td>\n",
       "      <td>0</td>\n",
       "      <td>0</td>\n",
       "      <td>0</td>\n",
       "      <td>0</td>\n",
       "      <td>0</td>\n",
       "      <td>0</td>\n",
       "      <td>Natural</td>\n",
       "    </tr>\n",
       "    <tr>\n",
       "      <th>5112</th>\n",
       "      <td>-119.765368</td>\n",
       "      <td>131383.9348</td>\n",
       "      <td>120.258112</td>\n",
       "      <td>131333.7883</td>\n",
       "      <td>0.246372</td>\n",
       "      <td>131434.0813</td>\n",
       "      <td>-116.740151</td>\n",
       "      <td>339.66905</td>\n",
       "      <td>121.696236</td>\n",
       "      <td>345.52857</td>\n",
       "      <td>...</td>\n",
       "      <td>0</td>\n",
       "      <td>0</td>\n",
       "      <td>0</td>\n",
       "      <td>0</td>\n",
       "      <td>0</td>\n",
       "      <td>0</td>\n",
       "      <td>0</td>\n",
       "      <td>0</td>\n",
       "      <td>0</td>\n",
       "      <td>Natural</td>\n",
       "    </tr>\n",
       "    <tr>\n",
       "      <th>5113</th>\n",
       "      <td>-119.828393</td>\n",
       "      <td>131484.2279</td>\n",
       "      <td>120.200816</td>\n",
       "      <td>131434.0813</td>\n",
       "      <td>0.183346</td>\n",
       "      <td>131509.3012</td>\n",
       "      <td>-117.536562</td>\n",
       "      <td>342.41570</td>\n",
       "      <td>121.054523</td>\n",
       "      <td>347.35967</td>\n",
       "      <td>...</td>\n",
       "      <td>0</td>\n",
       "      <td>0</td>\n",
       "      <td>0</td>\n",
       "      <td>0</td>\n",
       "      <td>0</td>\n",
       "      <td>0</td>\n",
       "      <td>0</td>\n",
       "      <td>0</td>\n",
       "      <td>0</td>\n",
       "      <td>Natural</td>\n",
       "    </tr>\n",
       "    <tr>\n",
       "      <th>5114</th>\n",
       "      <td>-119.931526</td>\n",
       "      <td>131634.6675</td>\n",
       "      <td>120.097683</td>\n",
       "      <td>131609.5942</td>\n",
       "      <td>0.085944</td>\n",
       "      <td>131709.8873</td>\n",
       "      <td>-118.602264</td>\n",
       "      <td>346.26101</td>\n",
       "      <td>120.200816</td>\n",
       "      <td>350.28943</td>\n",
       "      <td>...</td>\n",
       "      <td>0</td>\n",
       "      <td>0</td>\n",
       "      <td>0</td>\n",
       "      <td>0</td>\n",
       "      <td>0</td>\n",
       "      <td>0</td>\n",
       "      <td>0</td>\n",
       "      <td>0</td>\n",
       "      <td>0</td>\n",
       "      <td>Natural</td>\n",
       "    </tr>\n",
       "  </tbody>\n",
       "</table>\n",
       "<p>73101 rows × 129 columns</p>\n",
       "</div>"
      ],
      "text/plain": [
       "       R1-PA1:VH     R1-PM1:V   R1-PA2:VH     R1-PM2:V   R1-PA3:VH  \\\n",
       "0      70.399324  127673.0908  -49.572308  127648.0176 -169.578319   \n",
       "1      73.688102  130280.7109  -46.300719  130255.6377 -166.278082   \n",
       "2      73.733939  130305.7842  -46.254883  130280.7109 -166.232245   \n",
       "3      74.083443  130581.5902  -45.899649  130556.5169 -165.882741   \n",
       "4      74.553268  131083.0556  -45.424094  131057.9823 -165.424375   \n",
       "...          ...          ...         ...          ...         ...   \n",
       "5110 -119.696613  131308.7150  120.326867  131258.5685    0.309397   \n",
       "5111 -119.742450  131333.7883  120.286760  131308.7150    0.269290   \n",
       "5112 -119.765368  131383.9348  120.258112  131333.7883    0.246372   \n",
       "5113 -119.828393  131484.2279  120.200816  131434.0813    0.183346   \n",
       "5114 -119.931526  131634.6675  120.097683  131609.5942    0.085944   \n",
       "\n",
       "         R1-PM3:V   R1-PA4:IH   R1-PM4:I   R1-PA5:IH   R1-PM5:I  ...  \\\n",
       "0     127723.2374   65.689611  605.91099  -57.003571  626.78553  ...   \n",
       "1     130355.9307   71.831719  483.59351  -50.947407  500.98896  ...   \n",
       "2     130381.0040   71.808800  483.59351  -50.913030  500.98896  ...   \n",
       "3     130656.8100   72.152575  482.86107  -50.437475  499.15786  ...   \n",
       "4     131158.2754   72.118198  484.50906  -50.013486  497.69298  ...   \n",
       "...           ...         ...        ...         ...        ...  ...   \n",
       "5110  131358.8615 -116.235948  337.65484  122.045740  344.24680  ...   \n",
       "5111  131383.9348 -116.510968  338.02106  121.885312  344.79613  ...   \n",
       "5112  131434.0813 -116.740151  339.66905  121.696236  345.52857  ...   \n",
       "5113  131509.3012 -117.536562  342.41570  121.054523  347.35967  ...   \n",
       "5114  131709.8873 -118.602264  346.26101  120.200816  350.28943  ...   \n",
       "\n",
       "      control_panel_log4  relay1_log  relay2_log  relay3_log  relay4_log  \\\n",
       "0                      0           0           0           0           0   \n",
       "1                      0           0           0           0           0   \n",
       "2                      0           0           0           0           0   \n",
       "3                      0           0           0           0           0   \n",
       "4                      0           0           0           0           0   \n",
       "...                  ...         ...         ...         ...         ...   \n",
       "5110                   0           0           0           0           0   \n",
       "5111                   0           0           0           0           0   \n",
       "5112                   0           0           0           0           0   \n",
       "5113                   0           0           0           0           0   \n",
       "5114                   0           0           0           0           0   \n",
       "\n",
       "      snort_log1  snort_log2  snort_log3  snort_log4    marker  \n",
       "0              0           0           0           0  NoEvents  \n",
       "1              0           0           0           0  NoEvents  \n",
       "2              0           0           0           0  NoEvents  \n",
       "3              0           0           0           0  NoEvents  \n",
       "4              0           0           0           0  NoEvents  \n",
       "...          ...         ...         ...         ...       ...  \n",
       "5110           0           0           0           0   Natural  \n",
       "5111           0           0           0           0   Natural  \n",
       "5112           0           0           0           0   Natural  \n",
       "5113           0           0           0           0   Natural  \n",
       "5114           0           0           0           0   Natural  \n",
       "\n",
       "[73101 rows x 129 columns]"
      ]
     },
     "execution_count": 8,
     "metadata": {},
     "output_type": "execute_result"
    }
   ],
   "source": [
    "# Read all the datasets\n",
    "df_list= [ pd.read_csv('Class/triple/data{}.csv'.format(i)) for i in range(1, 15) ]\n",
    "# Union all the datasets into one\n",
    "df_trip = pd.concat(df_list)\n",
    "df_trip"
   ]
  },
  {
   "cell_type": "code",
   "execution_count": 23,
   "metadata": {},
   "outputs": [],
   "source": [
    "# Importing library\n",
    "import os\n",
    "\n",
    "# Getting all the arff files from the Class/multiclass/ directory\n",
    "# files = [arff for arff in os.listdir('.') if arff.endswith(\".arff\")]\n",
    "files = [arff for arff in os.listdir('Class/multiclass/') if arff.endswith(\".arff\")]\n",
    "files = [os.path.join('Class/multiclass/', file) for file in files]\n",
    "\n",
    "# Function for converting arff list to csv list\n",
    "def toCsv(text):\n",
    "    data = False\n",
    "    header = \"\"\n",
    "    new_content = []\n",
    "    for line in text:\n",
    "        if not data:\n",
    "            if \"@ATTRIBUTE\" in line or \"@attribute\" in line:\n",
    "                attributes = line.split()\n",
    "                if(\"@attribute\" in line):\n",
    "                    attri_case = \"@attribute\"\n",
    "                else:\n",
    "                    attri_case = \"@ATTRIBUTE\"\n",
    "                column_name = attributes[attributes.index(attri_case) + 1]\n",
    "                header = header + column_name + \",\"\n",
    "            elif \"@DATA\" in line or \"@data\" in line:\n",
    "                data = True\n",
    "                header = header[:-1]\n",
    "                header += '\\n'\n",
    "                new_content.append(header)\n",
    "        else:\n",
    "            new_content.append(line)\n",
    "    return new_content\n",
    "\n",
    "\n",
    "# Main loop for reading and writing files\n",
    "for file in files:\n",
    "    with open(file, \"r\") as inFile:\n",
    "        content = inFile.readlines()\n",
    "        name, ext = os.path.splitext(inFile.name)\n",
    "        new = toCsv(content)\n",
    "        # Change the name so everything before the first space is the name\n",
    "        name = name.split(\" \")[0]\n",
    "        with open(name + \".csv\", \"w\") as outFile:\n",
    "            outFile.writelines(new)"
   ]
  },
  {
   "cell_type": "code",
   "execution_count": 24,
   "metadata": {},
   "outputs": [
    {
     "data": {
      "text/html": [
       "<div>\n",
       "<style scoped>\n",
       "    .dataframe tbody tr th:only-of-type {\n",
       "        vertical-align: middle;\n",
       "    }\n",
       "\n",
       "    .dataframe tbody tr th {\n",
       "        vertical-align: top;\n",
       "    }\n",
       "\n",
       "    .dataframe thead th {\n",
       "        text-align: right;\n",
       "    }\n",
       "</style>\n",
       "<table border=\"1\" class=\"dataframe\">\n",
       "  <thead>\n",
       "    <tr style=\"text-align: right;\">\n",
       "      <th></th>\n",
       "      <th>R1-PA1:VH</th>\n",
       "      <th>R1-PM1:V</th>\n",
       "      <th>R1-PA2:VH</th>\n",
       "      <th>R1-PM2:V</th>\n",
       "      <th>R1-PA3:VH</th>\n",
       "      <th>R1-PM3:V</th>\n",
       "      <th>R1-PA4:IH</th>\n",
       "      <th>R1-PM4:I</th>\n",
       "      <th>R1-PA5:IH</th>\n",
       "      <th>R1-PM5:I</th>\n",
       "      <th>...</th>\n",
       "      <th>control_panel_log4</th>\n",
       "      <th>relay1_log</th>\n",
       "      <th>relay2_log</th>\n",
       "      <th>relay3_log</th>\n",
       "      <th>relay4_log</th>\n",
       "      <th>snort_log1</th>\n",
       "      <th>snort_log2</th>\n",
       "      <th>snort_log3</th>\n",
       "      <th>snort_log4</th>\n",
       "      <th>marker</th>\n",
       "    </tr>\n",
       "  </thead>\n",
       "  <tbody>\n",
       "    <tr>\n",
       "      <th>0</th>\n",
       "      <td>70.399324</td>\n",
       "      <td>127673.0908</td>\n",
       "      <td>-49.572308</td>\n",
       "      <td>127648.0176</td>\n",
       "      <td>-169.578319</td>\n",
       "      <td>127723.2374</td>\n",
       "      <td>65.689611</td>\n",
       "      <td>605.91099</td>\n",
       "      <td>-57.003571</td>\n",
       "      <td>626.78553</td>\n",
       "      <td>...</td>\n",
       "      <td>0</td>\n",
       "      <td>0</td>\n",
       "      <td>0</td>\n",
       "      <td>0</td>\n",
       "      <td>0</td>\n",
       "      <td>0</td>\n",
       "      <td>0</td>\n",
       "      <td>0</td>\n",
       "      <td>0</td>\n",
       "      <td>41</td>\n",
       "    </tr>\n",
       "    <tr>\n",
       "      <th>1</th>\n",
       "      <td>73.688102</td>\n",
       "      <td>130280.7109</td>\n",
       "      <td>-46.300719</td>\n",
       "      <td>130255.6377</td>\n",
       "      <td>-166.278082</td>\n",
       "      <td>130355.9307</td>\n",
       "      <td>71.831719</td>\n",
       "      <td>483.59351</td>\n",
       "      <td>-50.947407</td>\n",
       "      <td>500.98896</td>\n",
       "      <td>...</td>\n",
       "      <td>0</td>\n",
       "      <td>0</td>\n",
       "      <td>0</td>\n",
       "      <td>0</td>\n",
       "      <td>0</td>\n",
       "      <td>0</td>\n",
       "      <td>0</td>\n",
       "      <td>0</td>\n",
       "      <td>0</td>\n",
       "      <td>41</td>\n",
       "    </tr>\n",
       "    <tr>\n",
       "      <th>2</th>\n",
       "      <td>73.733939</td>\n",
       "      <td>130305.7842</td>\n",
       "      <td>-46.254883</td>\n",
       "      <td>130280.7109</td>\n",
       "      <td>-166.232245</td>\n",
       "      <td>130381.0040</td>\n",
       "      <td>71.808800</td>\n",
       "      <td>483.59351</td>\n",
       "      <td>-50.913030</td>\n",
       "      <td>500.98896</td>\n",
       "      <td>...</td>\n",
       "      <td>0</td>\n",
       "      <td>0</td>\n",
       "      <td>0</td>\n",
       "      <td>0</td>\n",
       "      <td>0</td>\n",
       "      <td>0</td>\n",
       "      <td>0</td>\n",
       "      <td>0</td>\n",
       "      <td>0</td>\n",
       "      <td>41</td>\n",
       "    </tr>\n",
       "    <tr>\n",
       "      <th>3</th>\n",
       "      <td>74.083443</td>\n",
       "      <td>130581.5902</td>\n",
       "      <td>-45.899649</td>\n",
       "      <td>130556.5169</td>\n",
       "      <td>-165.882741</td>\n",
       "      <td>130656.8100</td>\n",
       "      <td>72.152575</td>\n",
       "      <td>482.86107</td>\n",
       "      <td>-50.437475</td>\n",
       "      <td>499.15786</td>\n",
       "      <td>...</td>\n",
       "      <td>0</td>\n",
       "      <td>0</td>\n",
       "      <td>0</td>\n",
       "      <td>0</td>\n",
       "      <td>0</td>\n",
       "      <td>0</td>\n",
       "      <td>0</td>\n",
       "      <td>0</td>\n",
       "      <td>0</td>\n",
       "      <td>41</td>\n",
       "    </tr>\n",
       "    <tr>\n",
       "      <th>4</th>\n",
       "      <td>74.553268</td>\n",
       "      <td>131083.0556</td>\n",
       "      <td>-45.424094</td>\n",
       "      <td>131057.9823</td>\n",
       "      <td>-165.424375</td>\n",
       "      <td>131158.2754</td>\n",
       "      <td>72.118198</td>\n",
       "      <td>484.50906</td>\n",
       "      <td>-50.013486</td>\n",
       "      <td>497.69298</td>\n",
       "      <td>...</td>\n",
       "      <td>0</td>\n",
       "      <td>0</td>\n",
       "      <td>0</td>\n",
       "      <td>0</td>\n",
       "      <td>0</td>\n",
       "      <td>0</td>\n",
       "      <td>0</td>\n",
       "      <td>0</td>\n",
       "      <td>0</td>\n",
       "      <td>41</td>\n",
       "    </tr>\n",
       "    <tr>\n",
       "      <th>...</th>\n",
       "      <td>...</td>\n",
       "      <td>...</td>\n",
       "      <td>...</td>\n",
       "      <td>...</td>\n",
       "      <td>...</td>\n",
       "      <td>...</td>\n",
       "      <td>...</td>\n",
       "      <td>...</td>\n",
       "      <td>...</td>\n",
       "      <td>...</td>\n",
       "      <td>...</td>\n",
       "      <td>...</td>\n",
       "      <td>...</td>\n",
       "      <td>...</td>\n",
       "      <td>...</td>\n",
       "      <td>...</td>\n",
       "      <td>...</td>\n",
       "      <td>...</td>\n",
       "      <td>...</td>\n",
       "      <td>...</td>\n",
       "      <td>...</td>\n",
       "    </tr>\n",
       "    <tr>\n",
       "      <th>5110</th>\n",
       "      <td>-119.696613</td>\n",
       "      <td>131308.7150</td>\n",
       "      <td>120.326867</td>\n",
       "      <td>131258.5685</td>\n",
       "      <td>0.309397</td>\n",
       "      <td>131358.8615</td>\n",
       "      <td>-116.235948</td>\n",
       "      <td>337.65484</td>\n",
       "      <td>122.045740</td>\n",
       "      <td>344.24680</td>\n",
       "      <td>...</td>\n",
       "      <td>0</td>\n",
       "      <td>0</td>\n",
       "      <td>0</td>\n",
       "      <td>0</td>\n",
       "      <td>0</td>\n",
       "      <td>0</td>\n",
       "      <td>0</td>\n",
       "      <td>0</td>\n",
       "      <td>0</td>\n",
       "      <td>1</td>\n",
       "    </tr>\n",
       "    <tr>\n",
       "      <th>5111</th>\n",
       "      <td>-119.742450</td>\n",
       "      <td>131333.7883</td>\n",
       "      <td>120.286760</td>\n",
       "      <td>131308.7150</td>\n",
       "      <td>0.269290</td>\n",
       "      <td>131383.9348</td>\n",
       "      <td>-116.510968</td>\n",
       "      <td>338.02106</td>\n",
       "      <td>121.885312</td>\n",
       "      <td>344.79613</td>\n",
       "      <td>...</td>\n",
       "      <td>0</td>\n",
       "      <td>0</td>\n",
       "      <td>0</td>\n",
       "      <td>0</td>\n",
       "      <td>0</td>\n",
       "      <td>0</td>\n",
       "      <td>0</td>\n",
       "      <td>0</td>\n",
       "      <td>0</td>\n",
       "      <td>1</td>\n",
       "    </tr>\n",
       "    <tr>\n",
       "      <th>5112</th>\n",
       "      <td>-119.765368</td>\n",
       "      <td>131383.9348</td>\n",
       "      <td>120.258112</td>\n",
       "      <td>131333.7883</td>\n",
       "      <td>0.246372</td>\n",
       "      <td>131434.0813</td>\n",
       "      <td>-116.740151</td>\n",
       "      <td>339.66905</td>\n",
       "      <td>121.696236</td>\n",
       "      <td>345.52857</td>\n",
       "      <td>...</td>\n",
       "      <td>0</td>\n",
       "      <td>0</td>\n",
       "      <td>0</td>\n",
       "      <td>0</td>\n",
       "      <td>0</td>\n",
       "      <td>0</td>\n",
       "      <td>0</td>\n",
       "      <td>0</td>\n",
       "      <td>0</td>\n",
       "      <td>1</td>\n",
       "    </tr>\n",
       "    <tr>\n",
       "      <th>5113</th>\n",
       "      <td>-119.828393</td>\n",
       "      <td>131484.2279</td>\n",
       "      <td>120.200816</td>\n",
       "      <td>131434.0813</td>\n",
       "      <td>0.183346</td>\n",
       "      <td>131509.3012</td>\n",
       "      <td>-117.536562</td>\n",
       "      <td>342.41570</td>\n",
       "      <td>121.054523</td>\n",
       "      <td>347.35967</td>\n",
       "      <td>...</td>\n",
       "      <td>0</td>\n",
       "      <td>0</td>\n",
       "      <td>0</td>\n",
       "      <td>0</td>\n",
       "      <td>0</td>\n",
       "      <td>0</td>\n",
       "      <td>0</td>\n",
       "      <td>0</td>\n",
       "      <td>0</td>\n",
       "      <td>1</td>\n",
       "    </tr>\n",
       "    <tr>\n",
       "      <th>5114</th>\n",
       "      <td>-119.931526</td>\n",
       "      <td>131634.6675</td>\n",
       "      <td>120.097683</td>\n",
       "      <td>131609.5942</td>\n",
       "      <td>0.085944</td>\n",
       "      <td>131709.8873</td>\n",
       "      <td>-118.602264</td>\n",
       "      <td>346.26101</td>\n",
       "      <td>120.200816</td>\n",
       "      <td>350.28943</td>\n",
       "      <td>...</td>\n",
       "      <td>0</td>\n",
       "      <td>0</td>\n",
       "      <td>0</td>\n",
       "      <td>0</td>\n",
       "      <td>0</td>\n",
       "      <td>0</td>\n",
       "      <td>0</td>\n",
       "      <td>0</td>\n",
       "      <td>0</td>\n",
       "      <td>1</td>\n",
       "    </tr>\n",
       "  </tbody>\n",
       "</table>\n",
       "<p>73101 rows × 129 columns</p>\n",
       "</div>"
      ],
      "text/plain": [
       "       R1-PA1:VH     R1-PM1:V   R1-PA2:VH     R1-PM2:V   R1-PA3:VH  \\\n",
       "0      70.399324  127673.0908  -49.572308  127648.0176 -169.578319   \n",
       "1      73.688102  130280.7109  -46.300719  130255.6377 -166.278082   \n",
       "2      73.733939  130305.7842  -46.254883  130280.7109 -166.232245   \n",
       "3      74.083443  130581.5902  -45.899649  130556.5169 -165.882741   \n",
       "4      74.553268  131083.0556  -45.424094  131057.9823 -165.424375   \n",
       "...          ...          ...         ...          ...         ...   \n",
       "5110 -119.696613  131308.7150  120.326867  131258.5685    0.309397   \n",
       "5111 -119.742450  131333.7883  120.286760  131308.7150    0.269290   \n",
       "5112 -119.765368  131383.9348  120.258112  131333.7883    0.246372   \n",
       "5113 -119.828393  131484.2279  120.200816  131434.0813    0.183346   \n",
       "5114 -119.931526  131634.6675  120.097683  131609.5942    0.085944   \n",
       "\n",
       "         R1-PM3:V   R1-PA4:IH   R1-PM4:I   R1-PA5:IH   R1-PM5:I  ...  \\\n",
       "0     127723.2374   65.689611  605.91099  -57.003571  626.78553  ...   \n",
       "1     130355.9307   71.831719  483.59351  -50.947407  500.98896  ...   \n",
       "2     130381.0040   71.808800  483.59351  -50.913030  500.98896  ...   \n",
       "3     130656.8100   72.152575  482.86107  -50.437475  499.15786  ...   \n",
       "4     131158.2754   72.118198  484.50906  -50.013486  497.69298  ...   \n",
       "...           ...         ...        ...         ...        ...  ...   \n",
       "5110  131358.8615 -116.235948  337.65484  122.045740  344.24680  ...   \n",
       "5111  131383.9348 -116.510968  338.02106  121.885312  344.79613  ...   \n",
       "5112  131434.0813 -116.740151  339.66905  121.696236  345.52857  ...   \n",
       "5113  131509.3012 -117.536562  342.41570  121.054523  347.35967  ...   \n",
       "5114  131709.8873 -118.602264  346.26101  120.200816  350.28943  ...   \n",
       "\n",
       "      control_panel_log4  relay1_log  relay2_log  relay3_log  relay4_log  \\\n",
       "0                      0           0           0           0           0   \n",
       "1                      0           0           0           0           0   \n",
       "2                      0           0           0           0           0   \n",
       "3                      0           0           0           0           0   \n",
       "4                      0           0           0           0           0   \n",
       "...                  ...         ...         ...         ...         ...   \n",
       "5110                   0           0           0           0           0   \n",
       "5111                   0           0           0           0           0   \n",
       "5112                   0           0           0           0           0   \n",
       "5113                   0           0           0           0           0   \n",
       "5114                   0           0           0           0           0   \n",
       "\n",
       "      snort_log1  snort_log2  snort_log3  snort_log4  marker  \n",
       "0              0           0           0           0      41  \n",
       "1              0           0           0           0      41  \n",
       "2              0           0           0           0      41  \n",
       "3              0           0           0           0      41  \n",
       "4              0           0           0           0      41  \n",
       "...          ...         ...         ...         ...     ...  \n",
       "5110           0           0           0           0       1  \n",
       "5111           0           0           0           0       1  \n",
       "5112           0           0           0           0       1  \n",
       "5113           0           0           0           0       1  \n",
       "5114           0           0           0           0       1  \n",
       "\n",
       "[73101 rows x 129 columns]"
      ]
     },
     "execution_count": 24,
     "metadata": {},
     "output_type": "execute_result"
    }
   ],
   "source": [
    "# Read .csv.arff (weka) and convert it to .csv \n",
    "import pandas as pd\n",
    "import numpy as np\n",
    "import plotly.express as px\n",
    "\n",
    "# Read all the files\n",
    "df_list= [ pd.read_csv('Class/multiclass/data{}.csv'.format(i)) for i in range(1, 15) ]\n",
    "df_mult = pd.concat(df_list)\n",
    "df_mult\n"
   ]
  },
  {
   "cell_type": "code",
   "execution_count": 28,
   "metadata": {},
   "outputs": [
    {
     "data": {
      "text/html": [
       "<div>\n",
       "<style scoped>\n",
       "    .dataframe tbody tr th:only-of-type {\n",
       "        vertical-align: middle;\n",
       "    }\n",
       "\n",
       "    .dataframe tbody tr th {\n",
       "        vertical-align: top;\n",
       "    }\n",
       "\n",
       "    .dataframe thead th {\n",
       "        text-align: right;\n",
       "    }\n",
       "</style>\n",
       "<table border=\"1\" class=\"dataframe\">\n",
       "  <thead>\n",
       "    <tr style=\"text-align: right;\">\n",
       "      <th></th>\n",
       "      <th>binary</th>\n",
       "      <th>triple</th>\n",
       "      <th>multiclass</th>\n",
       "    </tr>\n",
       "  </thead>\n",
       "  <tbody>\n",
       "    <tr>\n",
       "      <th>0</th>\n",
       "      <td>Natural</td>\n",
       "      <td>NoEvents</td>\n",
       "      <td>41</td>\n",
       "    </tr>\n",
       "    <tr>\n",
       "      <th>1</th>\n",
       "      <td>Natural</td>\n",
       "      <td>NoEvents</td>\n",
       "      <td>41</td>\n",
       "    </tr>\n",
       "    <tr>\n",
       "      <th>2</th>\n",
       "      <td>Natural</td>\n",
       "      <td>NoEvents</td>\n",
       "      <td>41</td>\n",
       "    </tr>\n",
       "    <tr>\n",
       "      <th>3</th>\n",
       "      <td>Natural</td>\n",
       "      <td>NoEvents</td>\n",
       "      <td>41</td>\n",
       "    </tr>\n",
       "    <tr>\n",
       "      <th>4</th>\n",
       "      <td>Natural</td>\n",
       "      <td>NoEvents</td>\n",
       "      <td>41</td>\n",
       "    </tr>\n",
       "    <tr>\n",
       "      <th>...</th>\n",
       "      <td>...</td>\n",
       "      <td>...</td>\n",
       "      <td>...</td>\n",
       "    </tr>\n",
       "    <tr>\n",
       "      <th>5110</th>\n",
       "      <td>Natural</td>\n",
       "      <td>Natural</td>\n",
       "      <td>1</td>\n",
       "    </tr>\n",
       "    <tr>\n",
       "      <th>5111</th>\n",
       "      <td>Natural</td>\n",
       "      <td>Natural</td>\n",
       "      <td>1</td>\n",
       "    </tr>\n",
       "    <tr>\n",
       "      <th>5112</th>\n",
       "      <td>Natural</td>\n",
       "      <td>Natural</td>\n",
       "      <td>1</td>\n",
       "    </tr>\n",
       "    <tr>\n",
       "      <th>5113</th>\n",
       "      <td>Natural</td>\n",
       "      <td>Natural</td>\n",
       "      <td>1</td>\n",
       "    </tr>\n",
       "    <tr>\n",
       "      <th>5114</th>\n",
       "      <td>Natural</td>\n",
       "      <td>Natural</td>\n",
       "      <td>1</td>\n",
       "    </tr>\n",
       "  </tbody>\n",
       "</table>\n",
       "<p>73101 rows × 3 columns</p>\n",
       "</div>"
      ],
      "text/plain": [
       "       binary    triple  multiclass\n",
       "0     Natural  NoEvents          41\n",
       "1     Natural  NoEvents          41\n",
       "2     Natural  NoEvents          41\n",
       "3     Natural  NoEvents          41\n",
       "4     Natural  NoEvents          41\n",
       "...       ...       ...         ...\n",
       "5110  Natural   Natural           1\n",
       "5111  Natural   Natural           1\n",
       "5112  Natural   Natural           1\n",
       "5113  Natural   Natural           1\n",
       "5114  Natural   Natural           1\n",
       "\n",
       "[73101 rows x 3 columns]"
      ]
     },
     "execution_count": 28,
     "metadata": {},
     "output_type": "execute_result"
    }
   ],
   "source": [
    "markers = pd.concat([df_bin['marker'], df_trip['marker'], df_mult['marker']], axis=1)\n",
    "markers.columns = ['binary', 'triple', 'multiclass']\n",
    "markers"
   ]
  },
  {
   "cell_type": "code",
   "execution_count": 29,
   "metadata": {},
   "outputs": [
    {
     "data": {
      "application/vnd.plotly.v1+json": {
       "config": {
        "plotlyServerURL": "https://plot.ly"
       },
       "data": [
        {
         "branchvalues": "total",
         "domain": {
          "x": [
           0,
           1
          ],
          "y": [
           0,
           1
          ]
         },
         "hovertemplate": "labels=%{label}<br>count=%{value}<br>parent=%{parent}<br>id=%{id}<extra></extra>",
         "ids": [
          "Natural/Natural/1",
          "Natural/Natural/2",
          "Natural/Natural/3",
          "Natural/Natural/4",
          "Natural/Natural/5",
          "Natural/Natural/6",
          "Attack/Attack/7",
          "Attack/Attack/8",
          "Attack/Attack/9",
          "Attack/Attack/10",
          "Attack/Attack/11",
          "Attack/Attack/12",
          "Natural/Natural/13",
          "Natural/Natural/14",
          "Attack/Attack/15",
          "Attack/Attack/16",
          "Attack/Attack/17",
          "Attack/Attack/18",
          "Attack/Attack/19",
          "Attack/Attack/20",
          "Attack/Attack/21",
          "Attack/Attack/22",
          "Attack/Attack/23",
          "Attack/Attack/24",
          "Attack/Attack/25",
          "Attack/Attack/26",
          "Attack/Attack/27",
          "Attack/Attack/28",
          "Attack/Attack/29",
          "Attack/Attack/30",
          "Attack/Attack/35",
          "Attack/Attack/36",
          "Attack/Attack/37",
          "Attack/Attack/38",
          "Attack/Attack/39",
          "Attack/Attack/40",
          "Natural/NoEvents/41",
          "Attack/Attack",
          "Natural/Natural",
          "Natural/NoEvents",
          "Attack",
          "Natural"
         ],
         "labels": [
          "1",
          "2",
          "3",
          "4",
          "5",
          "6",
          "7",
          "8",
          "9",
          "10",
          "11",
          "12",
          "13",
          "14",
          "15",
          "16",
          "17",
          "18",
          "19",
          "20",
          "21",
          "22",
          "23",
          "24",
          "25",
          "26",
          "27",
          "28",
          "29",
          "30",
          "35",
          "36",
          "37",
          "38",
          "39",
          "40",
          "41",
          "Attack",
          "Natural",
          "NoEvents",
          "Attack",
          "Natural"
         ],
         "name": "",
         "parents": [
          "Natural/Natural",
          "Natural/Natural",
          "Natural/Natural",
          "Natural/Natural",
          "Natural/Natural",
          "Natural/Natural",
          "Attack/Attack",
          "Attack/Attack",
          "Attack/Attack",
          "Attack/Attack",
          "Attack/Attack",
          "Attack/Attack",
          "Natural/Natural",
          "Natural/Natural",
          "Attack/Attack",
          "Attack/Attack",
          "Attack/Attack",
          "Attack/Attack",
          "Attack/Attack",
          "Attack/Attack",
          "Attack/Attack",
          "Attack/Attack",
          "Attack/Attack",
          "Attack/Attack",
          "Attack/Attack",
          "Attack/Attack",
          "Attack/Attack",
          "Attack/Attack",
          "Attack/Attack",
          "Attack/Attack",
          "Attack/Attack",
          "Attack/Attack",
          "Attack/Attack",
          "Attack/Attack",
          "Attack/Attack",
          "Attack/Attack",
          "Natural/NoEvents",
          "Attack",
          "Natural",
          "Natural",
          "",
          ""
         ],
         "type": "sunburst",
         "values": [
          1529,
          1646,
          1808,
          2672,
          2830,
          3314,
          1358,
          1210,
          1113,
          1699,
          1871,
          1896,
          1505,
          1658,
          1247,
          1239,
          1212,
          1165,
          1754,
          1381,
          1163,
          1240,
          2379,
          1818,
          2384,
          2019,
          1447,
          1924,
          2016,
          2345,
          4229,
          4340,
          2579,
          2193,
          1424,
          1603,
          3891,
          52248,
          16962,
          3891,
          52248,
          20853
         ]
        }
       ],
       "layout": {
        "legend": {
         "tracegroupgap": 0
        },
        "margin": {
         "t": 60
        },
        "template": {
         "data": {
          "bar": [
           {
            "error_x": {
             "color": "#2a3f5f"
            },
            "error_y": {
             "color": "#2a3f5f"
            },
            "marker": {
             "line": {
              "color": "#E5ECF6",
              "width": 0.5
             },
             "pattern": {
              "fillmode": "overlay",
              "size": 10,
              "solidity": 0.2
             }
            },
            "type": "bar"
           }
          ],
          "barpolar": [
           {
            "marker": {
             "line": {
              "color": "#E5ECF6",
              "width": 0.5
             },
             "pattern": {
              "fillmode": "overlay",
              "size": 10,
              "solidity": 0.2
             }
            },
            "type": "barpolar"
           }
          ],
          "carpet": [
           {
            "aaxis": {
             "endlinecolor": "#2a3f5f",
             "gridcolor": "white",
             "linecolor": "white",
             "minorgridcolor": "white",
             "startlinecolor": "#2a3f5f"
            },
            "baxis": {
             "endlinecolor": "#2a3f5f",
             "gridcolor": "white",
             "linecolor": "white",
             "minorgridcolor": "white",
             "startlinecolor": "#2a3f5f"
            },
            "type": "carpet"
           }
          ],
          "choropleth": [
           {
            "colorbar": {
             "outlinewidth": 0,
             "ticks": ""
            },
            "type": "choropleth"
           }
          ],
          "contour": [
           {
            "colorbar": {
             "outlinewidth": 0,
             "ticks": ""
            },
            "colorscale": [
             [
              0,
              "#0d0887"
             ],
             [
              0.1111111111111111,
              "#46039f"
             ],
             [
              0.2222222222222222,
              "#7201a8"
             ],
             [
              0.3333333333333333,
              "#9c179e"
             ],
             [
              0.4444444444444444,
              "#bd3786"
             ],
             [
              0.5555555555555556,
              "#d8576b"
             ],
             [
              0.6666666666666666,
              "#ed7953"
             ],
             [
              0.7777777777777778,
              "#fb9f3a"
             ],
             [
              0.8888888888888888,
              "#fdca26"
             ],
             [
              1,
              "#f0f921"
             ]
            ],
            "type": "contour"
           }
          ],
          "contourcarpet": [
           {
            "colorbar": {
             "outlinewidth": 0,
             "ticks": ""
            },
            "type": "contourcarpet"
           }
          ],
          "heatmap": [
           {
            "colorbar": {
             "outlinewidth": 0,
             "ticks": ""
            },
            "colorscale": [
             [
              0,
              "#0d0887"
             ],
             [
              0.1111111111111111,
              "#46039f"
             ],
             [
              0.2222222222222222,
              "#7201a8"
             ],
             [
              0.3333333333333333,
              "#9c179e"
             ],
             [
              0.4444444444444444,
              "#bd3786"
             ],
             [
              0.5555555555555556,
              "#d8576b"
             ],
             [
              0.6666666666666666,
              "#ed7953"
             ],
             [
              0.7777777777777778,
              "#fb9f3a"
             ],
             [
              0.8888888888888888,
              "#fdca26"
             ],
             [
              1,
              "#f0f921"
             ]
            ],
            "type": "heatmap"
           }
          ],
          "heatmapgl": [
           {
            "colorbar": {
             "outlinewidth": 0,
             "ticks": ""
            },
            "colorscale": [
             [
              0,
              "#0d0887"
             ],
             [
              0.1111111111111111,
              "#46039f"
             ],
             [
              0.2222222222222222,
              "#7201a8"
             ],
             [
              0.3333333333333333,
              "#9c179e"
             ],
             [
              0.4444444444444444,
              "#bd3786"
             ],
             [
              0.5555555555555556,
              "#d8576b"
             ],
             [
              0.6666666666666666,
              "#ed7953"
             ],
             [
              0.7777777777777778,
              "#fb9f3a"
             ],
             [
              0.8888888888888888,
              "#fdca26"
             ],
             [
              1,
              "#f0f921"
             ]
            ],
            "type": "heatmapgl"
           }
          ],
          "histogram": [
           {
            "marker": {
             "pattern": {
              "fillmode": "overlay",
              "size": 10,
              "solidity": 0.2
             }
            },
            "type": "histogram"
           }
          ],
          "histogram2d": [
           {
            "colorbar": {
             "outlinewidth": 0,
             "ticks": ""
            },
            "colorscale": [
             [
              0,
              "#0d0887"
             ],
             [
              0.1111111111111111,
              "#46039f"
             ],
             [
              0.2222222222222222,
              "#7201a8"
             ],
             [
              0.3333333333333333,
              "#9c179e"
             ],
             [
              0.4444444444444444,
              "#bd3786"
             ],
             [
              0.5555555555555556,
              "#d8576b"
             ],
             [
              0.6666666666666666,
              "#ed7953"
             ],
             [
              0.7777777777777778,
              "#fb9f3a"
             ],
             [
              0.8888888888888888,
              "#fdca26"
             ],
             [
              1,
              "#f0f921"
             ]
            ],
            "type": "histogram2d"
           }
          ],
          "histogram2dcontour": [
           {
            "colorbar": {
             "outlinewidth": 0,
             "ticks": ""
            },
            "colorscale": [
             [
              0,
              "#0d0887"
             ],
             [
              0.1111111111111111,
              "#46039f"
             ],
             [
              0.2222222222222222,
              "#7201a8"
             ],
             [
              0.3333333333333333,
              "#9c179e"
             ],
             [
              0.4444444444444444,
              "#bd3786"
             ],
             [
              0.5555555555555556,
              "#d8576b"
             ],
             [
              0.6666666666666666,
              "#ed7953"
             ],
             [
              0.7777777777777778,
              "#fb9f3a"
             ],
             [
              0.8888888888888888,
              "#fdca26"
             ],
             [
              1,
              "#f0f921"
             ]
            ],
            "type": "histogram2dcontour"
           }
          ],
          "mesh3d": [
           {
            "colorbar": {
             "outlinewidth": 0,
             "ticks": ""
            },
            "type": "mesh3d"
           }
          ],
          "parcoords": [
           {
            "line": {
             "colorbar": {
              "outlinewidth": 0,
              "ticks": ""
             }
            },
            "type": "parcoords"
           }
          ],
          "pie": [
           {
            "automargin": true,
            "type": "pie"
           }
          ],
          "scatter": [
           {
            "fillpattern": {
             "fillmode": "overlay",
             "size": 10,
             "solidity": 0.2
            },
            "type": "scatter"
           }
          ],
          "scatter3d": [
           {
            "line": {
             "colorbar": {
              "outlinewidth": 0,
              "ticks": ""
             }
            },
            "marker": {
             "colorbar": {
              "outlinewidth": 0,
              "ticks": ""
             }
            },
            "type": "scatter3d"
           }
          ],
          "scattercarpet": [
           {
            "marker": {
             "colorbar": {
              "outlinewidth": 0,
              "ticks": ""
             }
            },
            "type": "scattercarpet"
           }
          ],
          "scattergeo": [
           {
            "marker": {
             "colorbar": {
              "outlinewidth": 0,
              "ticks": ""
             }
            },
            "type": "scattergeo"
           }
          ],
          "scattergl": [
           {
            "marker": {
             "colorbar": {
              "outlinewidth": 0,
              "ticks": ""
             }
            },
            "type": "scattergl"
           }
          ],
          "scattermapbox": [
           {
            "marker": {
             "colorbar": {
              "outlinewidth": 0,
              "ticks": ""
             }
            },
            "type": "scattermapbox"
           }
          ],
          "scatterpolar": [
           {
            "marker": {
             "colorbar": {
              "outlinewidth": 0,
              "ticks": ""
             }
            },
            "type": "scatterpolar"
           }
          ],
          "scatterpolargl": [
           {
            "marker": {
             "colorbar": {
              "outlinewidth": 0,
              "ticks": ""
             }
            },
            "type": "scatterpolargl"
           }
          ],
          "scatterternary": [
           {
            "marker": {
             "colorbar": {
              "outlinewidth": 0,
              "ticks": ""
             }
            },
            "type": "scatterternary"
           }
          ],
          "surface": [
           {
            "colorbar": {
             "outlinewidth": 0,
             "ticks": ""
            },
            "colorscale": [
             [
              0,
              "#0d0887"
             ],
             [
              0.1111111111111111,
              "#46039f"
             ],
             [
              0.2222222222222222,
              "#7201a8"
             ],
             [
              0.3333333333333333,
              "#9c179e"
             ],
             [
              0.4444444444444444,
              "#bd3786"
             ],
             [
              0.5555555555555556,
              "#d8576b"
             ],
             [
              0.6666666666666666,
              "#ed7953"
             ],
             [
              0.7777777777777778,
              "#fb9f3a"
             ],
             [
              0.8888888888888888,
              "#fdca26"
             ],
             [
              1,
              "#f0f921"
             ]
            ],
            "type": "surface"
           }
          ],
          "table": [
           {
            "cells": {
             "fill": {
              "color": "#EBF0F8"
             },
             "line": {
              "color": "white"
             }
            },
            "header": {
             "fill": {
              "color": "#C8D4E3"
             },
             "line": {
              "color": "white"
             }
            },
            "type": "table"
           }
          ]
         },
         "layout": {
          "annotationdefaults": {
           "arrowcolor": "#2a3f5f",
           "arrowhead": 0,
           "arrowwidth": 1
          },
          "autotypenumbers": "strict",
          "coloraxis": {
           "colorbar": {
            "outlinewidth": 0,
            "ticks": ""
           }
          },
          "colorscale": {
           "diverging": [
            [
             0,
             "#8e0152"
            ],
            [
             0.1,
             "#c51b7d"
            ],
            [
             0.2,
             "#de77ae"
            ],
            [
             0.3,
             "#f1b6da"
            ],
            [
             0.4,
             "#fde0ef"
            ],
            [
             0.5,
             "#f7f7f7"
            ],
            [
             0.6,
             "#e6f5d0"
            ],
            [
             0.7,
             "#b8e186"
            ],
            [
             0.8,
             "#7fbc41"
            ],
            [
             0.9,
             "#4d9221"
            ],
            [
             1,
             "#276419"
            ]
           ],
           "sequential": [
            [
             0,
             "#0d0887"
            ],
            [
             0.1111111111111111,
             "#46039f"
            ],
            [
             0.2222222222222222,
             "#7201a8"
            ],
            [
             0.3333333333333333,
             "#9c179e"
            ],
            [
             0.4444444444444444,
             "#bd3786"
            ],
            [
             0.5555555555555556,
             "#d8576b"
            ],
            [
             0.6666666666666666,
             "#ed7953"
            ],
            [
             0.7777777777777778,
             "#fb9f3a"
            ],
            [
             0.8888888888888888,
             "#fdca26"
            ],
            [
             1,
             "#f0f921"
            ]
           ],
           "sequentialminus": [
            [
             0,
             "#0d0887"
            ],
            [
             0.1111111111111111,
             "#46039f"
            ],
            [
             0.2222222222222222,
             "#7201a8"
            ],
            [
             0.3333333333333333,
             "#9c179e"
            ],
            [
             0.4444444444444444,
             "#bd3786"
            ],
            [
             0.5555555555555556,
             "#d8576b"
            ],
            [
             0.6666666666666666,
             "#ed7953"
            ],
            [
             0.7777777777777778,
             "#fb9f3a"
            ],
            [
             0.8888888888888888,
             "#fdca26"
            ],
            [
             1,
             "#f0f921"
            ]
           ]
          },
          "colorway": [
           "#636efa",
           "#EF553B",
           "#00cc96",
           "#ab63fa",
           "#FFA15A",
           "#19d3f3",
           "#FF6692",
           "#B6E880",
           "#FF97FF",
           "#FECB52"
          ],
          "font": {
           "color": "#2a3f5f"
          },
          "geo": {
           "bgcolor": "white",
           "lakecolor": "white",
           "landcolor": "#E5ECF6",
           "showlakes": true,
           "showland": true,
           "subunitcolor": "white"
          },
          "hoverlabel": {
           "align": "left"
          },
          "hovermode": "closest",
          "mapbox": {
           "style": "light"
          },
          "paper_bgcolor": "white",
          "plot_bgcolor": "#E5ECF6",
          "polar": {
           "angularaxis": {
            "gridcolor": "white",
            "linecolor": "white",
            "ticks": ""
           },
           "bgcolor": "#E5ECF6",
           "radialaxis": {
            "gridcolor": "white",
            "linecolor": "white",
            "ticks": ""
           }
          },
          "scene": {
           "xaxis": {
            "backgroundcolor": "#E5ECF6",
            "gridcolor": "white",
            "gridwidth": 2,
            "linecolor": "white",
            "showbackground": true,
            "ticks": "",
            "zerolinecolor": "white"
           },
           "yaxis": {
            "backgroundcolor": "#E5ECF6",
            "gridcolor": "white",
            "gridwidth": 2,
            "linecolor": "white",
            "showbackground": true,
            "ticks": "",
            "zerolinecolor": "white"
           },
           "zaxis": {
            "backgroundcolor": "#E5ECF6",
            "gridcolor": "white",
            "gridwidth": 2,
            "linecolor": "white",
            "showbackground": true,
            "ticks": "",
            "zerolinecolor": "white"
           }
          },
          "shapedefaults": {
           "line": {
            "color": "#2a3f5f"
           }
          },
          "ternary": {
           "aaxis": {
            "gridcolor": "white",
            "linecolor": "white",
            "ticks": ""
           },
           "baxis": {
            "gridcolor": "white",
            "linecolor": "white",
            "ticks": ""
           },
           "bgcolor": "#E5ECF6",
           "caxis": {
            "gridcolor": "white",
            "linecolor": "white",
            "ticks": ""
           }
          },
          "title": {
           "x": 0.05
          },
          "xaxis": {
           "automargin": true,
           "gridcolor": "white",
           "linecolor": "white",
           "ticks": "",
           "title": {
            "standoff": 15
           },
           "zerolinecolor": "white",
           "zerolinewidth": 2
          },
          "yaxis": {
           "automargin": true,
           "gridcolor": "white",
           "linecolor": "white",
           "ticks": "",
           "title": {
            "standoff": 15
           },
           "zerolinecolor": "white",
           "zerolinewidth": 2
          }
         }
        }
       }
      }
     },
     "metadata": {},
     "output_type": "display_data"
    }
   ],
   "source": [
    "# Draw a graph (sunburst) to show the distribution of the data\n",
    "px.sunburst(markers, path=['binary','triple','multiclass'])"
   ]
  },
  {
   "attachments": {},
   "cell_type": "markdown",
   "metadata": {},
   "source": [
    "#### Natural Events\n",
    "\n",
    "| Scenario | Natural events (SLG faults) |\n",
    "| ----- | ----- |\n",
    "| 1 | Fault from 10-19% on L1 |\n",
    "| 2 | Fault from 20-79% on L1 |\n",
    "| 3 | Fault from 80-90% on L1 |\n",
    "| 4 | Fault from 10-19% on L2 |\n",
    "| 5 | Fault from 20-79% on L2 |\n",
    "| 6 | Fault from 80-90% on L2 |\n",
    "| | <br> |\n",
    "| | **Natural events (Line maintenance)** |\n",
    "| 13 | Line L1 maintenance |\n",
    "| 14 | Line L2 maintenance |\n",
    "\n",
    "#### Regular Operation\n",
    "| Scenario | No Events (Normal operation) |\n",
    "| ----- | ----- |\n",
    "| 41 | Normal Operation load changes |\n",
    "\n",
    "#### Attack Scenarios\n",
    "| Scenario | Attack Type |\n",
    "| ----- | ----- |\n",
    "| | **Data Injection** |\n",
    "| | ***Attack Sub-type (SLG fault replay)*** |\n",
    "| 7 | Fault from 10-19% on L1 with tripping command |\n",
    "| 8 | Fault from 20-79% on L1 with tripping command |\n",
    "| 9 | Fault from 80-90% on L1 with tripping command |\n",
    "| 10 | Fault from 10-19% on L2 with tripping command |\n",
    "| 11 | Fault from 20-79% on L2 with tripping command |\n",
    "| 12 | Fault from 80-90% on L2 with tripping command |\n",
    "| | <br> |\n",
    "| | **Remote Tripping Command Injection** |\n",
    "| | ***Attack Sub-type (Command injection against single relay)*** |\n",
    "| 15 | Command Injection to R1 |\n",
    "| 16 | Command Injection to R2 |\n",
    "| 17 | Command Injection to R3 |\n",
    "| 18 | Command Injection to R4 |\n",
    "| | <br> |\n",
    "| | **Attack Sub-type (Command injection against single relay)** |\n",
    "| 19 | Command Injection to R1 and R2 |\n",
    "| 20 | Command Injection to R3 and R4 |\n",
    "| | <br> |\n",
    "| | **Relay Setting Change** |\n",
    "| | ***Attack Sub-type (Disabling relay function - single relay disabled & fault)*** |\n",
    "| 21 | Fault from 10-19% on L1 with R1 disabled & fault |\n",
    "| 22 | Fault from 20-90% on L1 with R1 disabled & fault |\n",
    "| 23 | Fault from 10-49% on L1 with R2 disabled & fault |\n",
    "| 24 | Fault from 50-79% on L1 with R2 disabled & fault |\n",
    "| 25 | Fault from 80-90% on L1 with R2 disabled & fault |\n",
    "| 26 | Fault from 10-19% on L2 with R3 disabled & fault |\n",
    "| 27 | Fault from 20-49% on L2 with R3 disabled & fault |\n",
    "| 28 | Fault from 50-90% on L2 with R3 disabled & fault |\n",
    "| 29 | Fault from 10-79% on L2 with R4 disabled & fault |\n",
    "| 30 | Fault from 80-90% on L2 with R4 disabled & fault |\n",
    "| | <br> |\n",
    "| | **Attack Sub-type (Disabling relay function - two relays disabled & fault)** |\n",
    "| 35 | Fault from 10-49% on L1 with R1 and R2 disabled & fault |\n",
    "| 36 | Fault from 50-90% on L1 with R1 and R2 disabled & fault |\n",
    "| 37 | Fault from 10-49% on L1 with R3 and R4 disabled & fault |\n",
    "| 38 | Fault from 50-90% on L1 with R3 and R4 disabled & fault |\n",
    "| | <br> |\n",
    "| | **Attack Sub-type (Disabling relay function - two relay disabled & line maintenance)** |\n",
    "| 39 | L1 maintenance with R1 and R2 disabled |\n",
    "| 40 | L1 maintenance with R1 and R2 disabled |"
   ]
  },
  {
   "cell_type": "code",
   "execution_count": 34,
   "metadata": {},
   "outputs": [
    {
     "data": {
      "text/plain": [
       "{1: 'Natural events (SLG faults), Fault from 10-19% on L1',\n",
       " 2: 'Natural events (SLG faults), Fault from 20-79% on L1',\n",
       " 3: 'Natural events (SLG faults), Fault from 80-90% on L1',\n",
       " 4: 'Natural events (SLG faults), Fault from 10-19% on L2',\n",
       " 5: 'Natural events (SLG faults), Fault from 20-79% on L1',\n",
       " 6: 'Natural events (SLG faults), Fault from 80-90% on L1',\n",
       " 7: 'Data Injection, Attack Sub-type (SLG fault replay), Fault from 10-19% on L1 with tripping command',\n",
       " 8: 'Data Injection, Attack Sub-type (SLG fault replay), Fault from 20-79% on L1 with tripping command',\n",
       " 9: 'Data Injection, Attack Sub-type (SLG fault replay), Fault from 80-90% on L1 with tripping command',\n",
       " 10: 'Data Injection, Attack Sub-type (SLG fault replay), Fault from 10-19% on L2 with tripping command',\n",
       " 11: 'Data Injection, Attack Sub-type (SLG fault replay), Fault from 20-79% on L2 with tripping command',\n",
       " 12: 'Data Injection, Attack Sub-type (SLG fault replay), Fault from 80-90% on L2 with tripping command',\n",
       " 13: 'Natural events (Line maintenance), Line L1 maintenance',\n",
       " 14: 'Natural events (Line maintenance), Line L2 maintenance',\n",
       " 15: 'Remote Tripping Command Injection, Attack Sub-type (Command injection against single relay), Command Injection to R1',\n",
       " 16: 'Remote Tripping Command Injection, Attack Sub-type (Command injection against single relay), Command Injection to R2',\n",
       " 17: 'Remote Tripping Command Injection, Attack Sub-type (Command injection against single relay), Command Injection to R3',\n",
       " 18: 'Remote Tripping Command Injection, Attack Sub-type (Command injection against single relay), Command Injection to R4',\n",
       " 19: 'Remote Tripping Command Injection, Attack Sub-type (Command injection against single relay), Command Injection to R1 and R2',\n",
       " 20: 'Remote Tripping Command Injection, Attack Sub-type (Command injection against single relay), Command Injection to R3 and R4',\n",
       " 21: 'Relay Setting Change, Attack Sub-type (Disabling relay function - single relay disabled & fault), Fault from 10-19% on L1 with R1 disabled & fault',\n",
       " 22: 'Relay Setting Change, Attack Sub-type (Disabling relay function - single relay disabled & fault), Fault from 20-90% on L1 with R1 disabled & fault',\n",
       " 23: 'Relay Setting Change, Attack Sub-type (Disabling relay function - single relay disabled & fault), Fault from 10-49% on L1 with R2 disabled & fault',\n",
       " 24: 'Relay Setting Change, Attack Sub-type (Disabling relay function - single relay disabled & fault), Fault from 50-79% on L1 with R2 disabled & fault',\n",
       " 25: 'Relay Setting Change, Attack Sub-type (Disabling relay function - single relay disabled & fault), Fault from 80-90% on L1 with R2 disabled & fault',\n",
       " 26: 'Relay Setting Change, Attack Sub-type (Disabling relay function - single relay disabled & fault), Fault from 10-19% on L2 with R3 disabled & fault',\n",
       " 27: 'Relay Setting Change, Attack Sub-type (Disabling relay function - single relay disabled & fault), Fault from 20-49% on L2 with R3 disabled & fault',\n",
       " 28: 'Relay Setting Change, Attack Sub-type (Disabling relay function - single relay disabled & fault), Fault from 50-90% on L2 with R3 disabled & fault',\n",
       " 29: 'Relay Setting Change, Attack Sub-type (Disabling relay function - single relay disabled & fault), Fault from 10-79% on L2 with R4 disabled & fault',\n",
       " 30: 'Relay Setting Change, Attack Sub-type (Disabling relay function - single relay disabled & fault), Fault from 80-90% on L2 with R4 disabled & fault',\n",
       " 35: 'Relay Setting Change, Attack Sub-type (Disabling relay function - two relays disabled & fault), Fault from 10-49% on L1 with R1 and R2 disabled & fault',\n",
       " 36: 'Relay Setting Change, Attack Sub-type (Disabling relay function - two relays disabled & fault), Fault from 50-90% on L1 with R1 and R2 disabled & fault',\n",
       " 37: 'Relay Setting Change, Attack Sub-type (Disabling relay function - two relays disabled & fault), Fault from 10-49% on L1 with R3 and R4 disabled & fault',\n",
       " 38: 'Relay Setting Change, Attack Sub-type (Disabling relay function - two relays disabled & fault), Fault from 50-90% on L1 with R3 and R4 disabled & fault',\n",
       " 39: 'Relay Setting Change, Attack Sub-type (Disabling relay function - two relay disabled & line maintenance), L1 maintenance with R1 and R2 disabled',\n",
       " 40: 'Relay Setting Change, Attack Sub-type (Disabling relay function - two relay disabled & line maintenance), L1 maintenance with R1 and R2 disabled',\n",
       " 41: 'No Events (Normal operation), Normal Operation load changes'}"
      ]
     },
     "execution_count": 34,
     "metadata": {},
     "output_type": "execute_result"
    }
   ],
   "source": [
    "scenarios = {1: \"Natural events (SLG faults), Fault from 10-19% on L1\",\n",
    "             2: \"Natural events (SLG faults), Fault from 20-79% on L1\",\n",
    "             3: \"Natural events (SLG faults), Fault from 80-90% on L1\",\n",
    "             4: \"Natural events (SLG faults), Fault from 10-19% on L2\",\n",
    "             5: \"Natural events (SLG faults), Fault from 20-79% on L1\",\n",
    "             6: \"Natural events (SLG faults), Fault from 80-90% on L1\",\n",
    "             7: \"Data Injection, Attack Sub-type (SLG fault replay), Fault from 10-19% on L1 with tripping command\",\n",
    "             8: \"Data Injection, Attack Sub-type (SLG fault replay), Fault from 20-79% on L1 with tripping command\",\n",
    "             9: \"Data Injection, Attack Sub-type (SLG fault replay), Fault from 80-90% on L1 with tripping command\",\n",
    "             10: \"Data Injection, Attack Sub-type (SLG fault replay), Fault from 10-19% on L2 with tripping command\",\n",
    "             11: \"Data Injection, Attack Sub-type (SLG fault replay), Fault from 20-79% on L2 with tripping command\",\n",
    "             12: \"Data Injection, Attack Sub-type (SLG fault replay), Fault from 80-90% on L2 with tripping command\",\n",
    "             13: \"Natural events (Line maintenance), Line L1 maintenance\",\n",
    "             14: \"Natural events (Line maintenance), Line L2 maintenance\",\n",
    "             15: \"Remote Tripping Command Injection, Attack Sub-type (Command injection against single relay), Command Injection to R1\",\n",
    "             16: \"Remote Tripping Command Injection, Attack Sub-type (Command injection against single relay), Command Injection to R2\",\n",
    "             17: \"Remote Tripping Command Injection, Attack Sub-type (Command injection against single relay), Command Injection to R3\",\n",
    "             18: \"Remote Tripping Command Injection, Attack Sub-type (Command injection against single relay), Command Injection to R4\",\n",
    "             19: \"Remote Tripping Command Injection, Attack Sub-type (Command injection against single relay), Command Injection to R1 and R2\",\n",
    "             20: \"Remote Tripping Command Injection, Attack Sub-type (Command injection against single relay), Command Injection to R3 and R4\",\n",
    "             21: \"Relay Setting Change, Attack Sub-type (Disabling relay function - single relay disabled & fault), Fault from 10-19% on L1 with R1 disabled & fault\",\n",
    "             22: \"Relay Setting Change, Attack Sub-type (Disabling relay function - single relay disabled & fault), Fault from 20-90% on L1 with R1 disabled & fault\",\n",
    "             23: \"Relay Setting Change, Attack Sub-type (Disabling relay function - single relay disabled & fault), Fault from 10-49% on L1 with R2 disabled & fault\",\n",
    "             24: \"Relay Setting Change, Attack Sub-type (Disabling relay function - single relay disabled & fault), Fault from 50-79% on L1 with R2 disabled & fault\",\n",
    "             25: \"Relay Setting Change, Attack Sub-type (Disabling relay function - single relay disabled & fault), Fault from 80-90% on L1 with R2 disabled & fault\",\n",
    "             26: \"Relay Setting Change, Attack Sub-type (Disabling relay function - single relay disabled & fault), Fault from 10-19% on L2 with R3 disabled & fault\",\n",
    "             27: \"Relay Setting Change, Attack Sub-type (Disabling relay function - single relay disabled & fault), Fault from 20-49% on L2 with R3 disabled & fault\",\n",
    "             28: \"Relay Setting Change, Attack Sub-type (Disabling relay function - single relay disabled & fault), Fault from 50-90% on L2 with R3 disabled & fault\",\n",
    "             29: \"Relay Setting Change, Attack Sub-type (Disabling relay function - single relay disabled & fault), Fault from 10-79% on L2 with R4 disabled & fault\",\n",
    "             30: \"Relay Setting Change, Attack Sub-type (Disabling relay function - single relay disabled & fault), Fault from 80-90% on L2 with R4 disabled & fault\",\n",
    "             35: \"Relay Setting Change, Attack Sub-type (Disabling relay function - two relays disabled & fault), Fault from 10-49% on L1 with R1 and R2 disabled & fault\",\n",
    "             36: \"Relay Setting Change, Attack Sub-type (Disabling relay function - two relays disabled & fault), Fault from 50-90% on L1 with R1 and R2 disabled & fault\",\n",
    "             37: \"Relay Setting Change, Attack Sub-type (Disabling relay function - two relays disabled & fault), Fault from 10-49% on L1 with R3 and R4 disabled & fault\",\n",
    "             38: \"Relay Setting Change, Attack Sub-type (Disabling relay function - two relays disabled & fault), Fault from 50-90% on L1 with R3 and R4 disabled & fault\",\n",
    "             39: \"Relay Setting Change, Attack Sub-type (Disabling relay function - two relay disabled & line maintenance), L1 maintenance with R1 and R2 disabled\",\n",
    "             40: \"Relay Setting Change, Attack Sub-type (Disabling relay function - two relay disabled & line maintenance), L1 maintenance with R1 and R2 disabled\",\n",
    "             41: \"No Events (Normal operation), Normal Operation load changes\"}"
   ]
  }
 ],
 "metadata": {
  "kernelspec": {
   "display_name": "Python 3",
   "language": "python",
   "name": "python3"
  },
  "language_info": {
   "codemirror_mode": {
    "name": "ipython",
    "version": 3
   },
   "file_extension": ".py",
   "mimetype": "text/x-python",
   "name": "python",
   "nbconvert_exporter": "python",
   "pygments_lexer": "ipython3",
   "version": "3.8.10"
  },
  "orig_nbformat": 4,
  "vscode": {
   "interpreter": {
    "hash": "5b3ded1ccb95c1d9bd405e7b823d9e85424cde40fbb5985eb47e999ef50e15b4"
   }
  }
 },
 "nbformat": 4,
 "nbformat_minor": 2
}
