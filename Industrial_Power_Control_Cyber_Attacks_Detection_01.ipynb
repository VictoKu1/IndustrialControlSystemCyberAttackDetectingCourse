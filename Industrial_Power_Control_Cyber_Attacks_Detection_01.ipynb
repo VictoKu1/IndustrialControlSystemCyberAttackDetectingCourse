{
 "cells": [
  {
   "cell_type": "code",
   "execution_count": 1,
   "metadata": {},
   "outputs": [],
   "source": [
    "import pandas as pd\n",
    "import numpy as np\n",
    "import sklearn as sk\n",
    "import javabridge\n",
    "from weka.classifiers import Classifier, Evaluation\n",
    "from weka.core.converters import Loader\n",
    "import weka.filters as filters\n",
    "from weka.attribute_selection import ASSearch, ASEvaluation, AttributeSelection\n",
    "from weka.core.classes import Random"
   ]
  },
  {
   "cell_type": "code",
   "execution_count": 2,
   "metadata": {},
   "outputs": [
    {
     "name": "stderr",
     "output_type": "stream",
     "text": [
      "DEBUG:weka.core.jvm:Adding bundled jars\n",
      "DEBUG:weka.core.jvm:Classpath=['/usr/local/lib/python3.8/dist-packages/javabridge/jars/rhino-1.7R4.jar', '/usr/local/lib/python3.8/dist-packages/javabridge/jars/runnablequeue.jar', '/usr/local/lib/python3.8/dist-packages/javabridge/jars/cpython.jar', '/usr/local/lib/python3.8/dist-packages/weka/lib/weka.jar', '/usr/local/lib/python3.8/dist-packages/weka/lib/python-weka-wrapper.jar']\n",
      "DEBUG:weka.core.jvm:MaxHeapSize=default\n",
      "DEBUG:weka.core.jvm:Package support disabled\n",
      "WARNING: An illegal reflective access operation has occurred\n",
      "WARNING: Illegal reflective access by weka.core.WekaPackageClassLoaderManager (file:/usr/local/lib/python3.8/dist-packages/weka/lib/weka.jar) to method java.lang.ClassLoader.defineClass(java.lang.String,byte[],int,int,java.security.ProtectionDomain)\n",
      "WARNING: Please consider reporting this to the maintainers of weka.core.WekaPackageClassLoaderManager\n",
      "WARNING: Use --illegal-access=warn to enable warnings of further illegal reflective access operations\n",
      "WARNING: All illegal access operations will be denied in a future release\n"
     ]
    }
   ],
   "source": [
    "import weka.core.jvm as jvm\n",
    "jvm.start()"
   ]
  },
  {
   "cell_type": "code",
   "execution_count": 3,
   "metadata": {},
   "outputs": [],
   "source": [
    "# create a list of dataset filenames\n",
    "dataset_filenames = ['data1.csv', 'data2.csv', 'data3.csv', 'data4.csv', 'data5.csv',\n",
    "                     'data6.csv', 'data7.csv', 'data8.csv', 'data9.csv', 'data10.csv',\n",
    "                     'data11.csv', 'data12.csv', 'data13.csv', 'data14.csv', 'data15.csv']"
   ]
  },
  {
   "cell_type": "code",
   "execution_count": 4,
   "metadata": {},
   "outputs": [],
   "source": [
    "dataset_filenames = [\"Class/binaryAllNaturalPlusNormalVsAttacks/\" + str(filename) for filename in dataset_filenames]"
   ]
  },
  {
   "cell_type": "code",
   "execution_count": 5,
   "metadata": {},
   "outputs": [
    {
     "name": "stdout",
     "output_type": "stream",
     "text": [
      "Accuracy: 12.751677852348994 %\n",
      "Accuracy: 16.710526315789473 %\n",
      "Accuracy: 9.975369458128078 %\n",
      "Accuracy: 12.179487179487179 %\n",
      "Accuracy: 8.010335917312661 %\n",
      "Accuracy: 8.053691275167786 %\n",
      "Accuracy: 6.751592356687898 %\n",
      "Accuracy: 15.683814303638645 %\n",
      "Accuracy: 9.363295880149813 %\n",
      "Accuracy: 13.293413173652695 %\n",
      "Accuracy: 2.918781725888325 %\n",
      "Accuracy: 13.64795918367347 %\n",
      "Accuracy: 3.034134007585335 %\n",
      "Accuracy: 9.647979139504564 %\n",
      "Accuracy: 13.274336283185841 %\n"
     ]
    }
   ],
   "source": [
    "jrip_accuracy_on_triple = []\n",
    "loader = Loader(classname=\"weka.core.converters.CSVLoader\")\n",
    "for filename in dataset_filenames:\n",
    "    data = loader.load_file(filename)\n",
    "    data.class_is_last()\n",
    "    remove_filter = filters.Filter(classname=\"weka.filters.unsupervised.attribute.RemoveType\", options=[\"-T\", \"string\"])\n",
    "    remove_filter.inputformat(data)\n",
    "    data = remove_filter.filter(data)\n",
    "\n",
    "    # Perform attribute selection\n",
    "    # Select the best 4 attributes using BestFirst search and CfsSubsetEval evaluation\n",
    "    search = ASSearch(classname=\"weka.attributeSelection.BestFirst\", options=[\"-D\", \"1\", \"-N\", \"5\"])\n",
    "    eval = ASEvaluation(classname=\"weka.attributeSelection.CfsSubsetEval\", options=[\"-P\", \"1\", \"-E\", \"1\"])\n",
    "    attsel = AttributeSelection()\n",
    "    attsel.search(search)\n",
    "    attsel.evaluator(eval)\n",
    "    attsel.select_attributes(data)\n",
    "    selected_data = attsel.reduce_dimensionality(data)\n",
    "\n",
    "    # split the selected dataset into training and testing sets\n",
    "    train, test = selected_data.train_test_split(85)\n",
    "\n",
    "    # create a new Evaluation object for the selected attributes\n",
    "    eval = Evaluation(train)\n",
    "\n",
    "    # build the classifier on the training data\n",
    "    base_cls = Classifier(classname=\"weka.classifiers.rules.JRip\", options=[\"-F\", \"3\", \"-N\", \"2.0\", \"-O\", \"2\"])\n",
    "    cls = Classifier(classname=\"weka.classifiers.meta.AdaBoostM1\", options=[\"-P\", \"100\", \"-S\", \"1\", \"-I\", \"10\", \"-W\", base_cls.classname, \"--\"])\n",
    "    cls.build_classifier(train)\n",
    "\n",
    "    # make predictions on the test data using the new Evaluation object\n",
    "    predictions = eval.test_model(cls, test)\n",
    "\n",
    "    # print the evaluation summary\n",
    "    accuracy = eval.percent_correct\n",
    "    jrip_accuracy_on_triple.append(accuracy)\n",
    "    print(\"Accuracy:\", accuracy, \"%\")"
   ]
  }
 ],
 "metadata": {
  "kernelspec": {
   "display_name": "Python 3",
   "language": "python",
   "name": "python3"
  },
  "language_info": {
   "codemirror_mode": {
    "name": "ipython",
    "version": 3
   },
   "file_extension": ".py",
   "mimetype": "text/x-python",
   "name": "python",
   "nbconvert_exporter": "python",
   "pygments_lexer": "ipython3",
   "version": "3.8.10"
  },
  "orig_nbformat": 4,
  "vscode": {
   "interpreter": {
    "hash": "5b3ded1ccb95c1d9bd405e7b823d9e85424cde40fbb5985eb47e999ef50e15b4"
   }
  }
 },
 "nbformat": 4,
 "nbformat_minor": 2
}
